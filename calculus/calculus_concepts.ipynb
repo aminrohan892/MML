{
 "cells": [
  {
   "cell_type": "markdown",
   "source": [
    "# Chapter 2 - Linear Algebra\n",
    "\n",
    "## The following notebook is based on the \\*Mathematics For Machine Learning\\* textbook written by:\n",
    "1. Marc Peter Deisenroth\n",
    "2. A. Aldo Faisal\n",
    "3. Cheng Soon Ong\n",
    "\n",
    "## What does this notebook contain?\n",
    "1. It contains all the concepts from this book written in Python Code.\n"
   ],
   "metadata": {
    "collapsed": false,
    "pycharm": {
     "name": "#%% md\n"
    }
   }
  },
  {
   "cell_type": "markdown",
   "source": [
    "# What is a Linear Algebra?\n",
    "- Linear Algebra is the study of Vectors and certain rules to manipulate Vectors.\n",
    "-\n",
    "\n",
    "# What is a Vector?\n",
    "- Vector is an object that can be added together and multiplied by scalars to produce another object of the same kind.\n",
    "- Any object satisfying this condition is considered a Vector.\n",
    "- Eg:- Geometric vectors, Polynomials, Audio Signals, $\\"
   ],
   "metadata": {
    "collapsed": false
   }
  },
  {
   "cell_type": "code",
   "execution_count": null,
   "outputs": [],
   "source": [],
   "metadata": {
    "collapsed": false,
    "pycharm": {
     "name": "#%%\n"
    }
   }
  },
  {
   "cell_type": "code",
   "execution_count": null,
   "outputs": [],
   "source": [],
   "metadata": {
    "collapsed": false,
    "pycharm": {
     "name": "#%%\n"
    }
   }
  }
 ],
 "metadata": {
  "kernelspec": {
   "display_name": "Python 3",
   "language": "python",
   "name": "python3"
  },
  "language_info": {
   "codemirror_mode": {
    "name": "ipython",
    "version": 2
   },
   "file_extension": ".py",
   "mimetype": "text/x-python",
   "name": "python",
   "nbconvert_exporter": "python",
   "pygments_lexer": "ipython2",
   "version": "2.7.6"
  }
 },
 "nbformat": 4,
 "nbformat_minor": 0
}