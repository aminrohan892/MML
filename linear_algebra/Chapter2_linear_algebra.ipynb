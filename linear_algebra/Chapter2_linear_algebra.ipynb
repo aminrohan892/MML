{
 "cells": [
  {
   "cell_type": "markdown",
   "metadata": {
    "collapsed": true,
    "pycharm": {
     "name": "#%% md\n"
    }
   },
   "source": [
    "# Chapter 2 - Linear Algebra:\n",
    "\n",
    "## The following notebook is based on the \\*Mathematics For Machine Learning\\* textbook written by:\n",
    "*   Marc Peter Deisenroth\n",
    "*   A. Aldo Faisal\n",
    "*   Cheng Soon Ong\n",
    "\n",
    "## What does this notebook contain?\n",
    "*   It contains all the concepts from this book written in Python Code."
   ]
  },
  {
   "cell_type": "markdown",
   "source": [
    "# What is a Linear Algebra?\n",
    "*   Linear Algebra is the study of Vectors and certain rules to manipulate Vectors.\n",
    "\n",
    "\n",
    "# What is a Vector?\n",
    "*   Vector is an object that can be added together and multiplied by scalars to produce another object of the same kind.\n",
    "*   Any object satisfying this condition is considered a Vector.\n",
    "*   Eg:-\n",
    "    * Geometric vectors\n",
    "    * Polynomials\n",
    "    * Audio Signals\n",
    "    * Elements of $R^n$ (tuples of *n* real numbers)\n",
    "\n",
    "# One major concept in Mathematics is the idea of *Closure*:\n",
    "* This is basically asking a question: - *What is the set of all things that can result from our proposed solution?*\n",
    "* In the case of Vectors: - *What is the set of Vectors that can result by starting with a small set of vectors, and adding them to each other and scaling them?*\n",
    "    *   This results in: - **Vector Space**"
   ],
   "metadata": {
    "collapsed": false
   }
  },
  {
   "cell_type": "markdown",
   "source": [
    "# 2.1 Systems of Linear Equation:\n",
    "\n",
    "## Geometric Interpretation of Systems of Linear Equations\n",
    "* Let us consider a system of linear equations with two variables $x_1$, $x_2$.\n",
    "* Each linear equation defines a line on the $x_1$,$x_2$-plane.\n",
    "* The **solution** to a system of linear equations must satisfy all equations simultaneously. However, the **solution set** is the intersection of these lines.\n",
    "* The intersection set can be:\n",
    "    * line (when the lines overlap)\n",
    "    * a point (only one point of intersection)\n",
    "    * or empty (when lines are parallel)\n",
    "* A systematic approach for solving **systems of linear equations** that contains higher number of variables is to collect all the variables, coefficient & outputs into **Vectors** and then represent them in **Matrices**."
   ],
   "metadata": {
    "collapsed": false
   }
  },
  {
   "cell_type": "markdown",
   "source": [
    "# 2.2 Matrices:"
   ],
   "metadata": {
    "collapsed": false,
    "pycharm": {
     "name": "#%% md\n"
    }
   }
  },
  {
   "cell_type": "code",
   "execution_count": 5,
   "outputs": [
    {
     "name": "stdout",
     "output_type": "stream",
     "text": [
      "[[1 2 3]\n",
      " [4 5 6]]\n"
     ]
    }
   ],
   "source": [
    "# Simple Representation of 2x3 Matrix using Arrays:\n",
    "import numpy as np\n",
    "\n",
    "A = np.array([[1,2,3],\n",
    "             [4,5,6]])\n",
    "print(A)\n"
   ],
   "metadata": {
    "collapsed": false,
    "pycharm": {
     "name": "#%%\n"
    }
   }
  },
  {
   "cell_type": "markdown",
   "source": [
    "# 2.2.1 Matrix Addition & Multiplication\n",
    "\n",
    "## Addition of two Matrices is defined as the element wise sum:"
   ],
   "metadata": {
    "collapsed": false
   }
  },
  {
   "cell_type": "markdown",
   "source": [],
   "metadata": {
    "collapsed": false
   }
  },
  {
   "cell_type": "code",
   "execution_count": 8,
   "outputs": [
    {
     "name": "stdout",
     "output_type": "stream",
     "text": [
      "Matrix A is: [[10 20]\n",
      " [11 22]]\n",
      "Matrix B is: [[30 40]\n",
      " [33 44]]\n",
      "Sum of Matrix A & B is: [[40 60]\n",
      " [44 66]]\n"
     ]
    }
   ],
   "source": [
    "# Define two Matrix A & B and then perform addition:\n",
    "import numpy as np\n",
    "\n",
    "A = np.array([[10,20],[11,22]])\n",
    "B = np.array([[30,40],[33,44]])\n",
    "C = A + B\n",
    "print(f\"Matrix A is: {A}\")\n",
    "print(f\"Matrix B is: {B}\")\n",
    "print(f\"Sum of Matrix A & B is: {C}\")"
   ],
   "metadata": {
    "collapsed": false,
    "pycharm": {
     "name": "#%%\n"
    }
   }
  },
  {
   "cell_type": "markdown",
   "source": [
    "## Whereas in Multiplication of two Matrices:\n",
    "* The neighbouring dimensions should match.\n",
    "    * i.e If matrix A is m$\\times$n then it can only multiply with a matrix with dimension n$\\times$k\n",
    "* Then we multiply the element of the *m*th row of A with *k*th column of B and sum them up\n",
    "\n",
    "## Matrix Multiplication Properties:\n",
    "* It is **Not Commutative**, i.e AB $\\neq$ BA\n",
    "* It is **Associative**, i.e (AB)C = A(BC)\n",
    "* It is **Distributive**, i.e (A+B)C = AC + BC\n",
    "* Multiplication with **Identity** matrix, i.e $I_n$A = A$I_n$ = A\n",
    "    *   identity Matrix is the one in which all the elements are 0 except the diagonals which are 1."
   ],
   "metadata": {
    "collapsed": false
   }
  },
  {
   "cell_type": "code",
   "execution_count": 31,
   "outputs": [
    {
     "name": "stdout",
     "output_type": "stream",
     "text": [
      "Matrix A is: \n",
      " [[1 2 3]\n",
      " [4 5 6]]\n",
      "Matrix B is: \n",
      " [[ 6  7]\n",
      " [ 8  9]\n",
      " [10 11]]\n",
      "Mulitplication of AB is: \n",
      " [[ 52  58]\n",
      " [124 139]]\n",
      "Mulitplication of BA is: \n",
      " [[34 47 60]\n",
      " [44 61 78]\n",
      " [54 75 96]]\n",
      "(AB)F is: \n",
      " [[ 678  840  648  510  516]\n",
      " [1623 2010 1548 1221 1236]]\n",
      "A(BF) is: \n",
      " [[ 678  840  648  510  516]\n",
      " [1623 2010 1548 1221 1236]]\n"
     ]
    }
   ],
   "source": [
    "# Define two Matrix A & B and then perform multiplication:\n",
    "import numpy as np\n",
    "\n",
    "A = np.array([[1,2,3],[4,5,6]])\n",
    "B = np.array([[6,7],[8,9],[10,11]])\n",
    "C = A @ B # In Python if we want to Multiply two Array as Matrix Multiplication we should use @ instead of *\n",
    "print(f\"Matrix A is: \\n {A}\")\n",
    "print(f\"Matrix B is: \\n {B}\")\n",
    "print(f\"Mulitplication of AB is: \\n {C}\")\n",
    "\n",
    "# This operation will result in Hadamard Product in which the elementwise Multiplication is happening\n",
    "# But this code will give us an error as for Hadamard Product the dimensions of both the Matrices should be same.\n",
    "#D = A * B\n",
    "#print(f\"Hadamard Product :  \\n {D}\")\n",
    "\n",
    "# It is Not Commutative:\n",
    "E = B @ A\n",
    "print(f\"Mulitplication of BA is: \\n {E}\")\n",
    "\n",
    "# It is Associative:\n",
    "F = np.array([[3,5,8,2,1],[9,10,4,7,8]])\n",
    "print(f\"(AB)F is: \\n {(A @ B) @ F}\")\n",
    "print(f\"A(BF) is: \\n {A @ (B @ F)}\")"
   ],
   "metadata": {
    "collapsed": false,
    "pycharm": {
     "name": "#%%\n"
    }
   }
  },
  {
   "cell_type": "markdown",
   "source": [
    "# 2.2.2 Inverse & Transpose:\n",
    "# Inverse:\n",
    "* Let us consider a square matrix A.\n",
    "* Then let us consider another matrix B, which has a property **AB = $I_n$ = BA**\n",
    "* Then we call the matrix B as the Inverse of A and is represented as **$A^{-1}$**\n",
    "* Not all matrix has an inverse.\n",
    "* If a matrix has an inverse, it will be Unique. That matrix will be called *regular/invertible/nonsigular*.\n",
    "* If a matrix doesn't posses an inverse, it is called *irregular/noninvertible/singular*.\n"
   ],
   "metadata": {
    "collapsed": false
   }
  },
  {
   "cell_type": "markdown",
   "source": [
    "### Example 2.4 (Inverse Matrix)"
   ],
   "metadata": {
    "collapsed": false
   }
  },
  {
   "cell_type": "code",
   "execution_count": 34,
   "outputs": [
    {
     "name": "stdout",
     "output_type": "stream",
     "text": [
      "AB is: \n",
      " [[1 0 0]\n",
      " [0 1 0]\n",
      " [0 0 1]]\n",
      "BA is: \n",
      " [[1 0 0]\n",
      " [0 1 0]\n",
      " [0 0 1]]\n",
      "A inverse is : \n",
      " [[-7. -7.  6.]\n",
      " [ 2.  1. -1.]\n",
      " [ 4.  5. -4.]]\n"
     ]
    }
   ],
   "source": [
    "import numpy as np\n",
    "from numpy.linalg import inv\n",
    "\n",
    "A = np.array([[1,2,1],[4,4,5],[6,7,7]])\n",
    "B = np.array([[-7,-7,6],[2,1,-1],[4,5,-4]])\n",
    "\n",
    "# Check if B is an Inverse of A\n",
    "print(f\"AB is: \\n {A@B}\")\n",
    "print(f\"BA is: \\n {B@A}\")\n",
    "\n",
    "# Now use the numpy Inverse method to identify the Inverse of A:\n",
    "print(f\"A inverse is : \\n {inv(A)}\")"
   ],
   "metadata": {
    "collapsed": false,
    "pycharm": {
     "name": "#%%\n"
    }
   }
  },
  {
   "cell_type": "markdown",
   "source": [
    "# Transpose:\n",
    "* For a matrix **A** of dimension m$\\times$n and matrix **B** of dimension n$\\times$m, if **$B_ij$ = $A_ji$** then **B** is called the transpose of **A**.\n",
    "* Which can also be written as **B = $A^T$**."
   ],
   "metadata": {
    "collapsed": false
   }
  },
  {
   "cell_type": "code",
   "execution_count": null,
   "outputs": [],
   "source": [],
   "metadata": {
    "collapsed": false,
    "pycharm": {
     "name": "#%%\n"
    }
   }
  }
 ],
 "metadata": {
  "kernelspec": {
   "display_name": "Python 3",
   "language": "python",
   "name": "python3"
  },
  "language_info": {
   "codemirror_mode": {
    "name": "ipython",
    "version": 2
   },
   "file_extension": ".py",
   "mimetype": "text/x-python",
   "name": "python",
   "nbconvert_exporter": "python",
   "pygments_lexer": "ipython2",
   "version": "2.7.6"
  }
 },
 "nbformat": 4,
 "nbformat_minor": 0
}